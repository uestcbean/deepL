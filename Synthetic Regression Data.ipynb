{
 "cells": [
  {
   "cell_type": "code",
   "execution_count": 1,
   "id": "5bf9f82c-c211-41c5-b91b-c7b2507eaa0e",
   "metadata": {},
   "outputs": [],
   "source": [
    "%matplotlib inline\n",
    "import random\n",
    "import torch\n",
    "from d2l import torch as d2l"
   ]
  },
  {
   "cell_type": "markdown",
   "id": "e628071a-6cb2-4968-b2fc-698fc8fe6e6d",
   "metadata": {},
   "source": [
    "## Generating the Dataset"
   ]
  },
  {
   "cell_type": "code",
   "execution_count": 2,
   "id": "93c96fb2-fa32-4366-97ac-e88998621374",
   "metadata": {},
   "outputs": [],
   "source": [
    "class SyntheticRegressionData(d2l.DataModule):\n",
    "    def __init__(self, w, b, noise=0.01, num_train=1000, num_val=1000, batch_size=32):\n",
    "        super().__init__()\n",
    "        self.save_hyperparameters()\n",
    "        n = num_train + num_val;\n",
    "        self.X = torch.randn(n, len(w))\n",
    "        noise = torch.randn(n, 1) * noise\n",
    "        self.y = torch.matmul(self.X, w.reshape((-1, 1))) + b + noise"
   ]
  },
  {
   "cell_type": "code",
   "execution_count": 3,
   "id": "08e97b6c-4eca-40bc-a21c-c31ff40f4168",
   "metadata": {},
   "outputs": [
    {
     "name": "stdout",
     "output_type": "stream",
     "text": [
      "Intel MKL WARNING: Support of Intel(R) Streaming SIMD Extensions 4.2 (Intel(R) SSE4.2) enabled only processors has been deprecated. Intel oneAPI Math Kernel Library 2025.0 will require Intel(R) Advanced Vector Extensions (Intel(R) AVX) instructions.\n"
     ]
    }
   ],
   "source": [
    "data = SyntheticRegressionData(w=torch.tensor([2, -3,.4]), b=4.2)"
   ]
  },
  {
   "cell_type": "code",
   "execution_count": 4,
   "id": "16b1327a-4592-4b89-a5bf-e4c0b1ed03a1",
   "metadata": {},
   "outputs": [
    {
     "name": "stdout",
     "output_type": "stream",
     "text": [
      "features: tensor([-1.2981,  0.9511, -1.0873]) \n",
      "label: tensor([-1.6766])\n"
     ]
    }
   ],
   "source": [
    "print('features:', data.X[0], '\\nlabel:', data.y[0])"
   ]
  },
  {
   "cell_type": "markdown",
   "id": "d9659823-bbc3-46a7-ad63-9ff4bb8499a9",
   "metadata": {},
   "source": [
    "## Reading the Dataset"
   ]
  },
  {
   "cell_type": "code",
   "execution_count": 15,
   "id": "abe253ad-277b-4848-84de-2d0883f8662a",
   "metadata": {},
   "outputs": [],
   "source": [
    "@d2l.add_to_class(SyntheticRegressionData)\n",
    "def get_tensorloader(self, tensors, train,indices=slice(0, None)):\n",
    "    tensors = tuple(a[indices] for a in tensors)\n",
    "    dataset = torch.utils.data.TensorDataset(*tensors)\n",
    "    return torch.utils.data.DataLoader(dataset, self.batch_size, shuffle=train)\n",
    "# def get_dataloader(self, train):\n",
    "#     if train:\n",
    "#         indices = list(range(0, self.num_train))\n",
    "#         random.shuffle(indices)\n",
    "#     else:\n",
    "#         indices = list(range(self.num_train, self.num_train+self.num_val))\n",
    "#     for i in range(0, len(indices), self.batch_size):\n",
    "#         batch_indices = torch.tensor(indices[i: i + self.batch_size])\n",
    "#         yield self.X[batch_indices], self.y[batch_indices]\n",
    "\n",
    "@d2l.add_to_class(SyntheticRegressionData)\n",
    "def get_dataloader(self, train):\n",
    "    i = slice(0, self.num_train) if train else slice(self.num_train, None)\n",
    "    return self.get_tensorloader((self.X, self.y), train, i)"
   ]
  },
  {
   "cell_type": "code",
   "execution_count": 16,
   "id": "415f48af-d5ec-4c55-9cd2-6338eb79cbd4",
   "metadata": {},
   "outputs": [
    {
     "name": "stdout",
     "output_type": "stream",
     "text": [
      "X shape: torch.Size([32, 3]) \n",
      "y shape: torch.Size([32, 1])\n",
      "X value: tensor([[-1.1374, -0.5544,  0.5816],\n",
      "        [ 0.5676,  1.0361,  0.2935],\n",
      "        [ 0.5385,  0.1060,  0.9356],\n",
      "        [-1.1440,  0.4479,  0.4874],\n",
      "        [ 0.3709,  0.2960,  0.4912],\n",
      "        [-0.3458, -1.0200,  0.9400],\n",
      "        [-0.1638,  1.3628, -0.6725],\n",
      "        [ 0.7966, -0.3050,  0.6049],\n",
      "        [ 0.7849, -2.0347,  0.4122],\n",
      "        [-0.3680, -0.8744,  1.0388],\n",
      "        [-0.7126,  1.2849, -0.2203],\n",
      "        [-0.8720, -0.9740,  0.6541],\n",
      "        [-0.6467, -1.7180,  1.0640],\n",
      "        [ 0.8427,  0.0262,  0.5981],\n",
      "        [ 1.7992, -1.1749,  1.0011],\n",
      "        [ 1.1797, -0.3570, -0.5026],\n",
      "        [ 0.1377, -1.0657, -1.3413],\n",
      "        [ 0.1467, -1.4413,  0.1901],\n",
      "        [ 0.0165,  0.2945,  0.7226],\n",
      "        [ 0.3449, -0.2068, -0.4132],\n",
      "        [-0.4573,  0.6538,  0.1530],\n",
      "        [ 0.2634,  0.4463,  0.2283],\n",
      "        [ 0.7524, -0.0076,  0.4012],\n",
      "        [ 1.4667,  1.3202,  0.2450],\n",
      "        [ 0.6752, -0.7219, -0.7657],\n",
      "        [-1.2981,  0.9511, -1.0873],\n",
      "        [ 0.1625, -0.6997,  0.0543],\n",
      "        [-0.9465, -0.7849, -0.5486],\n",
      "        [ 0.0747, -0.6850, -0.8033],\n",
      "        [ 0.1833, -0.1856,  1.7713],\n",
      "        [ 0.3474,  1.7553,  0.4537],\n",
      "        [-0.1854, -1.0068, -0.3036]]) \n",
      "y value: tensor([[ 3.8184],\n",
      "        [ 2.3398],\n",
      "        [ 5.3257],\n",
      "        [ 0.7810],\n",
      "        [ 4.2548],\n",
      "        [ 6.9513],\n",
      "        [-0.4854],\n",
      "        [ 6.9538],\n",
      "        [12.0329],\n",
      "        [ 6.4988],\n",
      "        [-1.1651],\n",
      "        [ 5.6394],\n",
      "        [ 8.4836],\n",
      "        [ 6.0626],\n",
      "        [11.7441],\n",
      "        [ 7.4231],\n",
      "        [ 7.1561],\n",
      "        [ 8.8959],\n",
      "        [ 3.6329],\n",
      "        [ 5.3402],\n",
      "        [ 1.3961],\n",
      "        [ 3.4726],\n",
      "        [ 5.8900],\n",
      "        [ 3.2687],\n",
      "        [ 7.4192],\n",
      "        [-1.6766],\n",
      "        [ 6.6431],\n",
      "        [ 4.4434],\n",
      "        [ 6.0875],\n",
      "        [ 5.8270],\n",
      "        [-0.1976],\n",
      "        [ 6.7214]])\n"
     ]
    }
   ],
   "source": [
    "X, y = next(iter(data.train_dataloader()))\n",
    "print('X shape:', X.shape, '\\ny shape:', y.shape)\n",
    "print('X value:', X, '\\ny value:', y)"
   ]
  }
 ],
 "metadata": {
  "kernelspec": {
   "display_name": "Python 3 (ipykernel)",
   "language": "python",
   "name": "python3"
  },
  "language_info": {
   "codemirror_mode": {
    "name": "ipython",
    "version": 3
   },
   "file_extension": ".py",
   "mimetype": "text/x-python",
   "name": "python",
   "nbconvert_exporter": "python",
   "pygments_lexer": "ipython3",
   "version": "3.9.21"
  }
 },
 "nbformat": 4,
 "nbformat_minor": 5
}
